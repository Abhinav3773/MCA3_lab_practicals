{
 "cells": [
  {
   "cell_type": "code",
   "execution_count": 4,
   "id": "7b15a179",
   "metadata": {},
   "outputs": [
    {
     "name": "stdout",
     "output_type": "stream",
     "text": [
      "Enter A : 3\n",
      "Enter B : 1\n",
      "ENTER YOUR CHOICE  1 FOR ADDITION 2 FOR MULTIPLICATION 3 FOR SUBTRACTION 4 FOR DIVISION 5 FOR MODULES : 5\n",
      "THE MODULES RESULT IS :  0\n"
     ]
    }
   ],
   "source": [
    "# Write a program to use the mathematical operators\n",
    "\n",
    "a=int(input(\"Enter A : \"))\n",
    "b=int(input(\"Enter B : \"))\n",
    "def switch():\n",
    "    option=int(input(\"ENTER YOUR CHOICE  1 FOR ADDITION 2 FOR MULTIPLICATION 3 FOR SUBTRACTION 4 FOR DIVISION 5 FOR MODULES : \"))\n",
    "      \n",
    "    if option == 1:\n",
    "        print(\"THE ADDITION RESULT IS : \",a+b)\n",
    " \n",
    "    elif option == 2:\n",
    "        print(\"THE MULTIPLICATION RESULT IS : \",a*b)\n",
    "        \n",
    "    elif option == 3:\n",
    "        print(\"THE SUBTRACTION RESULT IS : \",a-b)\n",
    "    \n",
    "    elif option == 4:\n",
    "        print(\"THE DIVISION RESULT IS : \",a/b)\n",
    " \n",
    "    elif option == 5:\n",
    "        print(\"THE MODULES RESULT IS : \",a%b)\n",
    "        \n",
    "    else:\n",
    "        print(\"WRONG CHOICE\")\n",
    "switch()\n",
    "\n"
   ]
  },
  {
   "cell_type": "code",
   "execution_count": null,
   "id": "190e1230",
   "metadata": {},
   "outputs": [],
   "source": [
    "#Write a program to take an input of numbers from the user and print the Fibonacci series to the terminal number.\n",
    "\n",
    "a=int(input(\"ENTER DATA\"))\n",
    "n1=0\n",
    "n=1\n",
    "print(n1)\n",
    "print(n)\n",
    "for i in range(2,a):\n",
    "    n3=n+n1\n",
    "    print(n3)\n",
    "    n1=n\n",
    "    n=n3\n",
    "    \n",
    "    \n",
    "    "
   ]
  },
  {
   "cell_type": "code",
   "execution_count": 12,
   "id": "92bdfdd6",
   "metadata": {},
   "outputs": [
    {
     "name": "stdout",
     "output_type": "stream",
     "text": [
      "ENTER DATA : 5\n",
      "120\n"
     ]
    }
   ],
   "source": [
    "#FACTPRIAL OF A NUMBER\n",
    "n=int(input(\"ENTER DATA : \"))\n",
    "f=1;\n",
    "for i in range(1,n+1):\n",
    "    f=f*i\n",
    "\n",
    "print(f)"
   ]
  },
  {
   "cell_type": "code",
   "execution_count": 23,
   "id": "45289761",
   "metadata": {},
   "outputs": [
    {
     "name": "stdout",
     "output_type": "stream",
     "text": [
      "ENTER THE NUMBER TO CHECK FOR PRIME NUMBER OR NOT : 12\n",
      "Not a Prime number\n"
     ]
    }
   ],
   "source": [
    "#prime number or not \n",
    "def prime(n):\n",
    "    if n>1:\n",
    "        c=0\n",
    "        for i in range(2,int(n/2)+1):\n",
    "            if n%i==0:\n",
    "                c=c+1\n",
    "                break;\n",
    "        if n==1:\n",
    "            print(\"Nothing\")\n",
    "        elif c==0:\n",
    "            print(\"Prime number\")\n",
    "        else:\n",
    "            print(\"Not a Prime number\")\n",
    "    \n",
    "n=int(input(\"ENTER THE NUMBER TO CHECK FOR PRIME NUMBER OR NOT : \"))\n",
    "prime(n)"
   ]
  },
  {
   "cell_type": "code",
   "execution_count": 123,
   "id": "e86d23d1",
   "metadata": {},
   "outputs": [
    {
     "name": "stdout",
     "output_type": "stream",
     "text": [
      "ENTER THE LIMIT : 5\n",
      "1 \n",
      "1 2 \n",
      "1 2 3 \n",
      "1 2 3 5 \n",
      "1 2 3 5 8 \n"
     ]
    }
   ],
   "source": [
    "#nested loop fibonacci pattern\n",
    "n=int(input(\"ENTER THE LIMIT : \"))\n",
    "for i in range(1,n+1):\n",
    "    n1=0\n",
    "    n2=1\n",
    "    for j in range(1,i+1):\n",
    "        n3=n1+n2\n",
    "        print(n3,end=\" \")\n",
    "        n1=n2\n",
    "        n2=n3\n",
    "    print(\"\\r\")\n"
   ]
  },
  {
   "cell_type": "code",
   "execution_count": 125,
   "id": "adbbcd34",
   "metadata": {},
   "outputs": [
    {
     "name": "stdout",
     "output_type": "stream",
     "text": [
      "ENTER YOUR NAME : MUSKAN\n",
      "WRONG STUDENT\n"
     ]
    }
   ],
   "source": [
    "#use of if else clause\n",
    "n=input(\"ENTER YOUR NAME : \")\n",
    "if n==\"muskan\":\n",
    "    print(\"MCA C\")\n",
    "elif n==\"lama\":\n",
    "    print(\"MCA B\")\n",
    "else:\n",
    "    print(\"WRONG STUDENT\")"
   ]
  },
  {
   "cell_type": "code",
   "execution_count": 126,
   "id": "9404b0c9",
   "metadata": {},
   "outputs": [
    {
     "name": "stdout",
     "output_type": "stream",
     "text": [
      "('blue', 'green', 'black')\n"
     ]
    }
   ],
   "source": [
    "#TUPLES\n",
    "COLOR='blue','green','black'\n",
    "print(COLOR)"
   ]
  },
  {
   "cell_type": "code",
   "execution_count": 129,
   "id": "ccce22ec",
   "metadata": {},
   "outputs": [
    {
     "name": "stdout",
     "output_type": "stream",
     "text": [
      "('muskan', 'lama', 'sofi', 'lama')\n"
     ]
    }
   ],
   "source": [
    "#TUPLE CONCATENATION\n",
    "a='muskan','lama'\n",
    "b='sofi','lama','is','a'\n",
    "print(a+b)"
   ]
  },
  {
   "cell_type": "code",
   "execution_count": 141,
   "id": "769073f7",
   "metadata": {},
   "outputs": [
    {
     "name": "stdout",
     "output_type": "stream",
     "text": [
      "('lama',)\n",
      "('sofi', 'lama')\n",
      "('lama',)\n",
      "('lama', 'sofi')\n",
      "2\n"
     ]
    }
   ],
   "source": [
    "#tuple slice\n",
    "print(a[1:])#tuple item from 2 to end\n",
    "print(b[:2])#item till 2\n",
    "print(b[1:4])#item from 2:3\n",
    "print(b[::-1])#reverse\n",
    "print(len(a))"
   ]
  },
  {
   "cell_type": "code",
   "execution_count": 143,
   "id": "58338e6e",
   "metadata": {},
   "outputs": [
    {
     "name": "stdout",
     "output_type": "stream",
     "text": [
      "lama\n",
      "sofi\n"
     ]
    }
   ],
   "source": [
    "#tuple\n",
    "print(min(a))\n",
    "print(max(b))\n"
   ]
  },
  {
   "cell_type": "code",
   "execution_count": 150,
   "id": "eeac7cb1",
   "metadata": {},
   "outputs": [
    {
     "name": "stdout",
     "output_type": "stream",
     "text": [
      "{'Name': ['MUSKAN', 'sofi'], 'COURSE': 'MCA'}\n",
      "['MUSKAN', 'sofi']\n",
      "2\n",
      "<class 'dict'>\n"
     ]
    }
   ],
   "source": [
    "#dictionary \n",
    "dict={\"Name\":[\"MUSKAN\",\"sofi\"],\"COURSE\":\"MCA\"}\n",
    "print(dict)#display\n",
    "print(dict[\"Name\"])#specific\n",
    "print(len(dict))#length\n",
    "print(type(dict)) #type"
   ]
  },
  {
   "cell_type": "markdown",
   "id": "af871e40",
   "metadata": {},
   "source": [
    "SEARCHING & SORTING "
   ]
  },
  {
   "cell_type": "code",
   "execution_count": 155,
   "id": "f7544971",
   "metadata": {},
   "outputs": [
    {
     "name": "stdout",
     "output_type": "stream",
     "text": [
      "ELEMENT FOUND AT INDEX : 4\n"
     ]
    }
   ],
   "source": [
    "#linear search \n",
    "def lin(l,n,key):\n",
    "    for i in range(0,n):\n",
    "        if(l[i]==key):\n",
    "            return i\n",
    "    return -1\n",
    "\n",
    "l=[1,2,3,4,5]\n",
    "key=5\n",
    "n=len(l)\n",
    "res=lin(l,n,key)\n",
    "if(res==-1):\n",
    "    print(\"NOT FOUND \")\n",
    "else:\n",
    "    print(\"ELEMENT FOUND AT INDEX :\",res)\n",
    "    "
   ]
  },
  {
   "cell_type": "code",
   "execution_count": 162,
   "id": "3a2c1d66",
   "metadata": {},
   "outputs": [
    {
     "name": "stdout",
     "output_type": "stream",
     "text": [
      "ELEMENT FOUND AT INDEX : 4\n"
     ]
    }
   ],
   "source": [
    "#BINARY SEARCH\n",
    "def binary(list,n):\n",
    "    l=0\n",
    "    h=len(list)-1\n",
    "    mid=0\n",
    "    while l<=h:\n",
    "        mid=(l+h)//2\n",
    "        \n",
    "        if list[mid]<n:\n",
    "            l=mid+1\n",
    "        elif list[mid]>n:\n",
    "            h=mid-1\n",
    "        else:\n",
    "            return mid\n",
    "    return -1\n",
    "\n",
    "list=[1,2,3,4,5]\n",
    "n=5\n",
    "res=binary(list,n)\n",
    "if(res==-1):\n",
    "    print(\"NOT FOUND \")\n",
    "else:\n",
    "    print(\"ELEMENT FOUND AT INDEX :\",res)\n"
   ]
  },
  {
   "cell_type": "code",
   "execution_count": 165,
   "id": "8c28aa5d",
   "metadata": {},
   "outputs": [
    {
     "name": "stdout",
     "output_type": "stream",
     "text": [
      "[0, 1, 2, 5, 5, 10]\n"
     ]
    }
   ],
   "source": [
    "#BUBBLE SORT\n",
    "def bub(l):\n",
    "    for i in range(0,len(l)-1):\n",
    "        for j in range(0,len(l)-1):\n",
    "            if(l[j]>l[j+1]):\n",
    "                l[j],l[j+1]=l[j+1],l[j]\n",
    "    return l\n",
    "\n",
    "l=[5,5,0,1,2,10]\n",
    "print(bub(l))"
   ]
  },
  {
   "cell_type": "code",
   "execution_count": 167,
   "id": "78287e2c",
   "metadata": {},
   "outputs": [
    {
     "name": "stdout",
     "output_type": "stream",
     "text": [
      "[0, 1, 2, 5, 5, 10]\n"
     ]
    }
   ],
   "source": [
    "#insertion sort\n",
    "def ins(l):\n",
    "    for i in range(0,len(l)):\n",
    "        value=l[i]\n",
    "        j=i-1\n",
    "        while j>=0 and value<l[j]:\n",
    "            l[j+1]=l[j]\n",
    "            j-=1\n",
    "        l[j+1]=value\n",
    "    return l\n",
    "        \n",
    "l=[5,5,0,1,2,10]\n",
    "print(ins(l))"
   ]
  },
  {
   "cell_type": "code",
   "execution_count": 171,
   "id": "519701cb",
   "metadata": {},
   "outputs": [
    {
     "name": "stdout",
     "output_type": "stream",
     "text": [
      "[0, 1, 2, 5, 5, 10]\n"
     ]
    }
   ],
   "source": [
    "#selection sort\n",
    "def sel(l):\n",
    "    for i in range(len(l)):\n",
    "        min=i\n",
    "        for j in range(i+1,len(l)):\n",
    "            if l[min]>l[j]:\n",
    "                min=j\n",
    "        l[i],l[min]=l[min],l[i]\n",
    "    return l\n",
    "l=[5,5,0,1,2,10]\n",
    "print(sel(l)) "
   ]
  },
  {
   "cell_type": "code",
   "execution_count": 173,
   "id": "0fdd6339",
   "metadata": {},
   "outputs": [
    {
     "name": "stdout",
     "output_type": "stream",
     "text": [
      "[0, 1, 2, 2, 9, 34]\n"
     ]
    }
   ],
   "source": [
    "#quick sort\n",
    "def partition(array, start, end):\n",
    "    pivot = array[start]\n",
    "    low = start + 1\n",
    "    high = end\n",
    "\n",
    "    while True:\n",
    "        while low <= high and array[high] >= pivot:\n",
    "            high = high - 1\n",
    "\n",
    "        # Opposite process of the one above\n",
    "        while low <= high and array[low] <= pivot:\n",
    "            low = low + 1\n",
    "\n",
    "        # We either found a value for both high and low that is out of order\n",
    "        # or low is higher than high, in which case we exit the loop\n",
    "        if low <= high:\n",
    "            array[low], array[high] = array[high], array[low]\n",
    "            # The loop continues\n",
    "        else:\n",
    "            # We exit out of the loop\n",
    "            break\n",
    "\n",
    "    array[start], array[high] = array[high], array[start]\n",
    "\n",
    "    return high\n",
    "#And finally, let's implement the quick_sort() function:\n",
    "\n",
    "def quick_sort(array, start, end):\n",
    "    if start >= end:\n",
    "        return\n",
    "\n",
    "    p = partition(array, start, end)\n",
    "    quick_sort(array, start, p-1)\n",
    "    quick_sort(array, p+1, end)\n",
    "#With both of them implemented, we can run quick_sort() on a simple array:\n",
    "\n",
    "array = [9,0,1,2,34,2]\n",
    "\n",
    "quick_sort(array, 0, len(array) - 1)\n",
    "print(array)\n",
    "\n",
    "\n"
   ]
  },
  {
   "cell_type": "code",
   "execution_count": 174,
   "id": "d56c2043",
   "metadata": {},
   "outputs": [
    {
     "name": "stdout",
     "output_type": "stream",
     "text": [
      "Sorted array is: \n",
      "1 5 6 9 10 12 \n"
     ]
    }
   ],
   "source": [
    "# MergeSort in Python\n",
    "\n",
    "\n",
    "def mergeSort(array):\n",
    "    if len(array) > 1:\n",
    "\n",
    "        #  r is the point where the array is divided into two subarrays\n",
    "        r = len(array)//2\n",
    "        L = array[:r]\n",
    "        M = array[r:]\n",
    "\n",
    "        # Sort the two halves\n",
    "        mergeSort(L)\n",
    "        mergeSort(M)\n",
    "\n",
    "        i = j = k = 0\n",
    "\n",
    "        # Until we reach either end of either L or M, pick larger among\n",
    "        # elements L and M and place them in the correct position at A[p..r]\n",
    "        while i < len(L) and j < len(M):\n",
    "            if L[i] < M[j]:\n",
    "                array[k] = L[i]\n",
    "                i += 1\n",
    "            else:\n",
    "                array[k] = M[j]\n",
    "                j += 1\n",
    "            k += 1\n",
    "\n",
    "        # When we run out of elements in either L or M,\n",
    "        # pick up the remaining elements and put in A[p..r]\n",
    "        while i < len(L):\n",
    "            array[k] = L[i]\n",
    "            i += 1\n",
    "            k += 1\n",
    "\n",
    "        while j < len(M):\n",
    "            array[k] = M[j]\n",
    "            j += 1\n",
    "            k += 1\n",
    "\n",
    "\n",
    "# Print the array\n",
    "def printList(array):\n",
    "    for i in range(len(array)):\n",
    "        print(array[i], end=\" \")\n",
    "    print()\n",
    "\n",
    "\n",
    "# Driver program\n",
    "if __name__ == '__main__':\n",
    "    array = [6, 5, 12, 10, 9, 1]\n",
    "\n",
    "    mergeSort(array)\n",
    "\n",
    "    print(\"Sorted array is: \")\n",
    "    printList(array)\n"
   ]
  },
  {
   "cell_type": "code",
   "execution_count": 191,
   "id": "a93487a1",
   "metadata": {},
   "outputs": [],
   "source": [
    "#Programs on Statistical Concepts and introduction to Linear Algebra using Python "
   ]
  },
  {
   "cell_type": "code",
   "execution_count": 188,
   "id": "5357af16",
   "metadata": {},
   "outputs": [
    {
     "data": {
      "text/plain": [
       "2.75"
      ]
     },
     "execution_count": 188,
     "metadata": {},
     "output_type": "execute_result"
    }
   ],
   "source": [
    "#mean,median and mode\n",
    "import statistics as st\n",
    "st.mean([2,3,4,2])\n",
    "\n"
   ]
  },
  {
   "cell_type": "code",
   "execution_count": 189,
   "id": "833772a3",
   "metadata": {},
   "outputs": [
    {
     "data": {
      "text/plain": [
       "4.5"
      ]
     },
     "execution_count": 189,
     "metadata": {},
     "output_type": "execute_result"
    }
   ],
   "source": [
    "st.median([3,4,5,6])"
   ]
  },
  {
   "cell_type": "code",
   "execution_count": 190,
   "id": "ea41b0f8",
   "metadata": {},
   "outputs": [
    {
     "data": {
      "text/plain": [
       "'m'"
      ]
     },
     "execution_count": 190,
     "metadata": {},
     "output_type": "execute_result"
    }
   ],
   "source": [
    "st.mode([\"m\",\"m\",\"l\",\"a\",\"f\"])"
   ]
  },
  {
   "cell_type": "code",
   "execution_count": 193,
   "id": "c17ab93a",
   "metadata": {},
   "outputs": [
    {
     "name": "stdout",
     "output_type": "stream",
     "text": [
      "Standard Deviation of sample is 0.816496580927726 \n"
     ]
    }
   ],
   "source": [
    "#Write a program to calculate the standard deviation of a given set of numbers.\n",
    "# Prints standard deviation \n",
    "sample=[2,3,2,1]\n",
    "print(\"Standard Deviation of sample is % s \"% (st.stdev(sample)))"
   ]
  },
  {
   "cell_type": "code",
   "execution_count": 196,
   "id": "7e406e65",
   "metadata": {},
   "outputs": [
    {
     "name": "stdout",
     "output_type": "stream",
     "text": [
      "[4, 6, 8]\n",
      "[5, 7, 3]\n",
      "[4, 5, 5]\n"
     ]
    }
   ],
   "source": [
    "#MARIX ADDITION\n",
    "a=[[1,2,3],[2,3,2],[2,3,2]]\n",
    "b=[[3,4,5],[3,4,1],[2,2,3]]\n",
    "c=[[0,0,0],[0,0,0],[0,0,0]]\n",
    "for i in range(len(a)):\n",
    "    for j in range(len(a[0])):\n",
    "        c[i][j]=a[i][j]+b[i][j]\n",
    "\n",
    "for r in c:\n",
    "    print(r)\n",
    "    "
   ]
  },
  {
   "cell_type": "code",
   "execution_count": 197,
   "id": "d3a49883",
   "metadata": {},
   "outputs": [
    {
     "name": "stdout",
     "output_type": "stream",
     "text": [
      "[3, 8, 15]\n",
      "[6, 12, 2]\n",
      "[4, 6, 6]\n"
     ]
    }
   ],
   "source": [
    "#MATRIX MULTIPLICATION\n",
    "for i in range(len(a)):\n",
    "    for j in range(len(a[0])):\n",
    "        c[i][j]=a[i][j]*b[i][j]\n",
    "\n",
    "for r in c:\n",
    "    print(r)\n",
    "    "
   ]
  },
  {
   "cell_type": "code",
   "execution_count": 226,
   "id": "187e6355",
   "metadata": {},
   "outputs": [
    {
     "name": "stdout",
     "output_type": "stream",
     "text": [
      "[[-12.    2.5   2. ]\n",
      " [  8.   -2.   -1. ]\n",
      " [ -1.    0.5  -0. ]]\n"
     ]
    }
   ],
   "source": [
    "#INVERSE\n",
    "import numpy as np\n",
    "matrix = np.array([[1,2,3],\n",
    "                   [2,4,8],\n",
    "                   [4,7,8]])\n",
    "print(np.linalg.inv(matrix))"
   ]
  },
  {
   "cell_type": "code",
   "execution_count": 227,
   "id": "ce1b56e9",
   "metadata": {},
   "outputs": [
    {
     "name": "stdout",
     "output_type": "stream",
     "text": [
      "[1, 2, 2]\n",
      "[2, 3, 3]\n",
      "[3, 2, 2]\n"
     ]
    }
   ],
   "source": [
    "#TRASPOSE\n",
    "for i in range(len(a)):\n",
    "    for j in range(len(a[0])):\n",
    "        c[j][i]=a[i][j]\n",
    "\n",
    "for r in c:\n",
    "    print(r)\n",
    "    "
   ]
  },
  {
   "cell_type": "code",
   "execution_count": 231,
   "id": "10f5805c",
   "metadata": {},
   "outputs": [
    {
     "data": {
      "text/plain": [
       "<module 'd' from 'C:\\\\Users\\\\muska\\\\OneDrive\\\\Desktop\\\\Python_project\\\\d.py'>"
      ]
     },
     "execution_count": 231,
     "metadata": {},
     "output_type": "execute_result"
    }
   ],
   "source": [
    "#IMPORT MODULE\n",
    "import d\n",
    "from importlib import reload\n",
    "reload(d)"
   ]
  },
  {
   "cell_type": "code",
   "execution_count": 237,
   "id": "2dd65fad",
   "metadata": {},
   "outputs": [
    {
     "name": "stdout",
     "output_type": "stream",
     "text": [
      "Hello world \n"
     ]
    }
   ],
   "source": [
    "d.data()"
   ]
  },
  {
   "cell_type": "code",
   "execution_count": 239,
   "id": "b345018e",
   "metadata": {},
   "outputs": [
    {
     "name": "stdout",
     "output_type": "stream",
     "text": [
      "muskan\n"
     ]
    }
   ],
   "source": [
    "print(d.n)"
   ]
  },
  {
   "cell_type": "code",
   "execution_count": null,
   "id": "85de77af",
   "metadata": {},
   "outputs": [],
   "source": []
  }
 ],
 "metadata": {
  "kernelspec": {
   "display_name": "Python 3",
   "language": "python",
   "name": "python3"
  },
  "language_info": {
   "codemirror_mode": {
    "name": "ipython",
    "version": 3
   },
   "file_extension": ".py",
   "mimetype": "text/x-python",
   "name": "python",
   "nbconvert_exporter": "python",
   "pygments_lexer": "ipython3",
   "version": "3.8.8"
  }
 },
 "nbformat": 4,
 "nbformat_minor": 5
}
