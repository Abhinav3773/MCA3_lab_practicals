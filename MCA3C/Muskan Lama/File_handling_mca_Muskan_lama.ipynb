{
 "cells": [
  {
   "cell_type": "code",
   "execution_count": 1,
   "id": "bfdbad3e",
   "metadata": {},
   "outputs": [],
   "source": [
    "#FILE HANDLING Creating and writing in a file\n",
    "f=open(\"example.txt\",\"w\")\n",
    "f.write(\"My name is Muskan Lama\")\n",
    "f.close()"
   ]
  },
  {
   "cell_type": "code",
   "execution_count": 3,
   "id": "3e4865c6",
   "metadata": {},
   "outputs": [
    {
     "name": "stdout",
     "output_type": "stream",
     "text": [
      "My name is Muskan Lama\n"
     ]
    }
   ],
   "source": [
    "#READING CONTENTS OF A FILE\n",
    "f=open(\"example.txt\",\"r\")\n",
    "data=f.read()\n",
    "print(data)\n",
    "f.close()"
   ]
  },
  {
   "cell_type": "code",
   "execution_count": 4,
   "id": "9210ff9f",
   "metadata": {},
   "outputs": [],
   "source": [
    "#writing files list\n",
    "f=open(\"example2.txt\",\"w\")\n",
    "a=[\"muskan\",\"Lama\",\"mca\"]\n",
    "f.writelines(a)\n",
    "f.close()"
   ]
  },
  {
   "cell_type": "code",
   "execution_count": 6,
   "id": "1dd7e572",
   "metadata": {},
   "outputs": [
    {
     "name": "stdout",
     "output_type": "stream",
     "text": [
      "['muskanLamamca']\n"
     ]
    }
   ],
   "source": [
    "#reading text from list using writelines\n",
    "f=open(\"example2.txt\",\"r\")\n",
    "data=f.readlines()\n",
    "print(data)\n",
    "f.close()"
   ]
  },
  {
   "cell_type": "code",
   "execution_count": 19,
   "id": "12d356f7",
   "metadata": {},
   "outputs": [],
   "source": [
    "#join 2 text files\n",
    "f=open(\"example.txt\",\"r\")\n",
    "f2=open(\"example2.txt\",\"r\")\n",
    "f3=open(\"merge.txt\",\"w\")\n",
    "f3.write(f.read()+f2.read())\n",
    "f.close()\n",
    "f2.close()\n",
    "f3.close()\n"
   ]
  },
  {
   "cell_type": "code",
   "execution_count": 20,
   "id": "58191f8d",
   "metadata": {},
   "outputs": [
    {
     "name": "stdout",
     "output_type": "stream",
     "text": [
      "My name is Muskan LamamuskanLamamca\n"
     ]
    }
   ],
   "source": [
    "#reading\n",
    "f3=open(\"merge.txt\",\"r\")\n",
    "print(f3.read())"
   ]
  },
  {
   "cell_type": "code",
   "execution_count": 28,
   "id": "ac636909",
   "metadata": {},
   "outputs": [],
   "source": [
    "with open(\"merge.txt\",\"r+\") as f3:\n",
    "    data=f3.readlines()\n",
    "    data2=data[::-1]\n",
    "    f3.writelines(data2)\n",
    "    f3.close()\n"
   ]
  },
  {
   "cell_type": "code",
   "execution_count": 29,
   "id": "77a7a0e2",
   "metadata": {},
   "outputs": [
    {
     "name": "stdout",
     "output_type": "stream",
     "text": [
      "['My name is Muskan LamamuskanLamamcaMy name is Muskan LamamuskanLamamcaMy name is Muskan LamamuskanLamamcaMy name is Muskan LamamuskanLamamcaMy name is Muskan LamamuskanLamamcaMy name is Muskan LamamuskanLamamcaMy name is Muskan LamamuskanLamamcaMy name is Muskan LamamuskanLamamcaMy name is Muskan LamamuskanLamamcaMy name is Muskan LamamuskanLamamcaMy name is Muskan LamamuskanLamamcaMy name is Muskan LamamuskanLamamcaMy name is Muskan LamamuskanLamamcaMy name is Muskan LamamuskanLamamcaMy name is Muskan LamamuskanLamamcaMy name is Muskan LamamuskanLamamcaMy name is Muskan LamamuskanLamamcaMy name is Muskan LamamuskanLamamcaMy name is Muskan LamamuskanLamamcaMy name is Muskan LamamuskanLamamcaMy name is Muskan LamamuskanLamamcaMy name is Muskan LamamuskanLamamcaMy name is Muskan LamamuskanLamamcaMy name is Muskan LamamuskanLamamcaMy name is Muskan LamamuskanLamamcaMy name is Muskan LamamuskanLamamcaMy name is Muskan LamamuskanLamamcaMy name is Muskan LamamuskanLamamcaMy name is Muskan LamamuskanLamamcaMy name is Muskan LamamuskanLamamcaMy name is Muskan LamamuskanLamamcaMy name is Muskan LamamuskanLamamcaMy name is Muskan LamamuskanLamamcaMy name is Muskan LamamuskanLamamcaMy name is Muskan LamamuskanLamamcaMy name is Muskan LamamuskanLamamcaMy name is Muskan LamamuskanLamamcaMy name is Muskan LamamuskanLamamcaMy name is Muskan LamamuskanLamamcaMy name is Muskan LamamuskanLamamcaMy name is Muskan LamamuskanLamamcaMy name is Muskan LamamuskanLamamcaMy name is Muskan LamamuskanLamamcaMy name is Muskan LamamuskanLamamcaMy name is Muskan LamamuskanLamamcaMy name is Muskan LamamuskanLamamcaMy name is Muskan LamamuskanLamamcaMy name is Muskan LamamuskanLamamcaMy name is Muskan LamamuskanLamamcaMy name is Muskan LamamuskanLamamcaMy name is Muskan LamamuskanLamamcaMy name is Muskan LamamuskanLamamcaMy name is Muskan LamamuskanLamamcaMy name is Muskan LamamuskanLamamcaMy name is Muskan LamamuskanLamamcaMy name is Muskan LamamuskanLamamcaMy name is Muskan LamamuskanLamamcaMy name is Muskan LamamuskanLamamcaMy name is Muskan LamamuskanLamamcaMy name is Muskan LamamuskanLamamcaMy name is Muskan LamamuskanLamamcaMy name is Muskan LamamuskanLamamcaMy name is Muskan LamamuskanLamamcaMy name is Muskan LamamuskanLamamca']\n"
     ]
    }
   ],
   "source": [
    "f3=open(\"merge.txt\",\"r\")\n",
    "d=f3.readlines()\n",
    "print(d)\n",
    "f3.close()"
   ]
  },
  {
   "cell_type": "code",
   "execution_count": 31,
   "id": "3d05ec26",
   "metadata": {},
   "outputs": [],
   "source": [
    "#TO STORE ONLY EVEN LINES IN A NEW FILE\n",
    "f=open(\"example.txt\",\"r\")\n",
    "l=f.readlines()\n",
    "l2=[]\n",
    "for i in range(len(l)):\n",
    "   if i%2==0:\n",
    "      l2.append(l[i])\n",
    "f2=open(\"new.txt\",\"w\")\n",
    "f2.writelines(l2)\n",
    "f.close()\n",
    "f2.close()\n"
   ]
  },
  {
   "cell_type": "code",
   "execution_count": 32,
   "id": "9a43515a",
   "metadata": {},
   "outputs": [],
   "source": [
    "#RENAMING A TEXT FILE \n",
    "import os\n",
    "os.rename(\"example.txt\",\"1ex.txt\")\n",
    "\n"
   ]
  },
  {
   "cell_type": "code",
   "execution_count": 33,
   "id": "57c86380",
   "metadata": {},
   "outputs": [
    {
     "name": "stdout",
     "output_type": "stream",
     "text": [
      "line 5\n",
      "characters 67\n",
      "words 17\n"
     ]
    }
   ],
   "source": [
    "f=open(\"1ex.txt\",\"r\")\n",
    "l=c=w=0\n",
    "for i in f:\n",
    "    l+=1\n",
    "    w+=len(i.split(\" \"))\n",
    "    c+=len(i)\n",
    "print(\"line\",l)\n",
    "print(\"characters\",c)\n",
    "print(\"words\",w)\n",
    "f.close()\n"
   ]
  },
  {
   "cell_type": "code",
   "execution_count": 34,
   "id": "a5ebb176",
   "metadata": {},
   "outputs": [
    {
     "ename": "FileExistsError",
     "evalue": "[Errno 17] File exists: '1ex.txt'",
     "output_type": "error",
     "traceback": [
      "\u001b[1;31m---------------------------------------------------------------------------\u001b[0m",
      "\u001b[1;31mFileExistsError\u001b[0m                           Traceback (most recent call last)",
      "\u001b[1;32m<ipython-input-34-68c2c2554761>\u001b[0m in \u001b[0;36m<module>\u001b[1;34m\u001b[0m\n\u001b[0;32m      1\u001b[0m \u001b[1;31m#Exclusive mode (‘x’)\u001b[0m\u001b[1;33m\u001b[0m\u001b[1;33m\u001b[0m\u001b[1;33m\u001b[0m\u001b[0m\n\u001b[0;32m      2\u001b[0m \u001b[1;33m\u001b[0m\u001b[0m\n\u001b[1;32m----> 3\u001b[1;33m \u001b[0mf\u001b[0m \u001b[1;33m=\u001b[0m \u001b[0mopen\u001b[0m\u001b[1;33m(\u001b[0m\u001b[1;34m\"1ex.txt\"\u001b[0m\u001b[1;33m,\u001b[0m \u001b[1;34m\"x\"\u001b[0m\u001b[1;33m)\u001b[0m\u001b[1;33m\u001b[0m\u001b[1;33m\u001b[0m\u001b[0m\n\u001b[0m",
      "\u001b[1;31mFileExistsError\u001b[0m: [Errno 17] File exists: '1ex.txt'"
     ]
    }
   ],
   "source": [
    "#Exclusive mode (‘x’)\n",
    "\n",
    "f = open(\"1ex.txt\", \"x\")"
   ]
  },
  {
   "cell_type": "code",
   "execution_count": 40,
   "id": "77af2d7f",
   "metadata": {},
   "outputs": [],
   "source": [
    "#append\n",
    "f2=open(\"1ex.txt\",\"a\")\n",
    "l=[\"muskan\",\"2\",\"3\",\"4\"]\n",
    "f2.writelines(l)\n",
    "f2.close()"
   ]
  },
  {
   "cell_type": "code",
   "execution_count": 41,
   "id": "15ba76f0",
   "metadata": {},
   "outputs": [
    {
     "name": "stdout",
     "output_type": "stream",
     "text": [
      "My na\n"
     ]
    }
   ],
   "source": [
    "#Return the 5 first characters of the file:\n",
    "\n",
    "f = open(\"1ex.txt\", \"r\")\n",
    "print(f.read(5))"
   ]
  },
  {
   "cell_type": "code",
   "execution_count": null,
   "id": "2f896fbf",
   "metadata": {},
   "outputs": [
    {
     "name": "stdout",
     "output_type": "stream",
     "text": [
      "enter file name: example2\n",
      "enter data [yes or no]yes\n",
      "data:- hi\n"
     ]
    }
   ],
   "source": [
    "#custom\n",
    "name = input(\"enter file name: \")\n",
    "file = open(name, \"w\")\n",
    "while True:\n",
    "    user_input = input(\"enter data [yes or no]\")\n",
    "    if user_input.lower() == \"yes\":\n",
    "        input_data = input(\"data:- \")\n",
    "        file.write(input_data + '\\n')\n",
    "    else:\n",
    "        break\n",
    "f.close()\n"
   ]
  },
  {
   "cell_type": "code",
   "execution_count": null,
   "id": "c0777ffd",
   "metadata": {},
   "outputs": [],
   "source": []
  },
  {
   "cell_type": "code",
   "execution_count": null,
   "id": "12c8f05a",
   "metadata": {},
   "outputs": [],
   "source": []
  }
 ],
 "metadata": {
  "kernelspec": {
   "display_name": "Python 3",
   "language": "python",
   "name": "python3"
  },
  "language_info": {
   "codemirror_mode": {
    "name": "ipython",
    "version": 3
   },
   "file_extension": ".py",
   "mimetype": "text/x-python",
   "name": "python",
   "nbconvert_exporter": "python",
   "pygments_lexer": "ipython3",
   "version": "3.8.8"
  }
 },
 "nbformat": 4,
 "nbformat_minor": 5
}
