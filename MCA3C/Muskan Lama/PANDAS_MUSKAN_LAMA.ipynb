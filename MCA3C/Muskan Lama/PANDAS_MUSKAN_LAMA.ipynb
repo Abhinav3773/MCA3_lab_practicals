{
 "cells": [
  {
   "cell_type": "code",
   "execution_count": 1,
   "id": "a150b8a7",
   "metadata": {},
   "outputs": [
    {
     "name": "stdout",
     "output_type": "stream",
     "text": [
      "(150, 6)\n",
      "      Id  SepalLengthCm  SepalWidthCm  PetalLengthCm  PetalWidthCm  \\\n",
      "0      1            5.1           3.5            1.4           0.2   \n",
      "1      2            4.9           3.0            1.4           0.2   \n",
      "2      3            4.7           3.2            1.3           0.2   \n",
      "3      4            4.6           3.1            1.5           0.2   \n",
      "4      5            5.0           3.6            1.4           0.2   \n",
      "..   ...            ...           ...            ...           ...   \n",
      "145  146            6.7           3.0            5.2           2.3   \n",
      "146  147            6.3           2.5            5.0           1.9   \n",
      "147  148            6.5           3.0            5.2           2.0   \n",
      "148  149            6.2           3.4            5.4           2.3   \n",
      "149  150            5.9           3.0            5.1           1.8   \n",
      "\n",
      "            Species  \n",
      "0       Iris-setosa  \n",
      "1       Iris-setosa  \n",
      "2       Iris-setosa  \n",
      "3       Iris-setosa  \n",
      "4       Iris-setosa  \n",
      "..              ...  \n",
      "145  Iris-virginica  \n",
      "146  Iris-virginica  \n",
      "147  Iris-virginica  \n",
      "148  Iris-virginica  \n",
      "149  Iris-virginica  \n",
      "\n",
      "[150 rows x 6 columns]\n"
     ]
    }
   ],
   "source": [
    "#reading csv and counting total number of rows and columns\n",
    "import pandas as pd\n",
    "import csv\n",
    "\n",
    "df=pd.read_csv(\"iris.csv\")\n",
    "l=pd.DataFrame(df)\n",
    "print(l.shape)\n",
    "print(df)"
   ]
  },
  {
   "cell_type": "code",
   "execution_count": 2,
   "id": "9209d7cb",
   "metadata": {},
   "outputs": [
    {
     "name": "stdout",
     "output_type": "stream",
     "text": [
      "      Id  SepalLengthCm  SepalWidthCm  PetalLengthCm  PetalWidthCm  \\\n",
      "140  141            6.7           3.1            5.6           2.4   \n",
      "141  142            6.9           3.1            5.1           2.3   \n",
      "142  143            5.8           2.7            5.1           1.9   \n",
      "143  144            6.8           3.2            5.9           2.3   \n",
      "144  145            6.7           3.3            5.7           2.5   \n",
      "145  146            6.7           3.0            5.2           2.3   \n",
      "146  147            6.3           2.5            5.0           1.9   \n",
      "147  148            6.5           3.0            5.2           2.0   \n",
      "148  149            6.2           3.4            5.4           2.3   \n",
      "149  150            5.9           3.0            5.1           1.8   \n",
      "\n",
      "            Species  \n",
      "140  Iris-virginica  \n",
      "141  Iris-virginica  \n",
      "142  Iris-virginica  \n",
      "143  Iris-virginica  \n",
      "144  Iris-virginica  \n",
      "145  Iris-virginica  \n",
      "146  Iris-virginica  \n",
      "147  Iris-virginica  \n",
      "148  Iris-virginica  \n",
      "149  Iris-virginica  \n",
      "   Id  SepalLengthCm  SepalWidthCm  PetalLengthCm  PetalWidthCm      Species\n",
      "0   1            5.1           3.5            1.4           0.2  Iris-setosa\n",
      "1   2            4.9           3.0            1.4           0.2  Iris-setosa\n",
      "2   3            4.7           3.2            1.3           0.2  Iris-setosa\n",
      "3   4            4.6           3.1            1.5           0.2  Iris-setosa\n",
      "4   5            5.0           3.6            1.4           0.2  Iris-setosa\n"
     ]
    }
   ],
   "source": [
    "import pandas as pd\n",
    "import csv\n",
    "\n",
    "df=pd.read_csv(\"iris.csv\")\n",
    "print(df.tail(10))#last 5 data\n",
    "print(df.head())#first 10\n"
   ]
  },
  {
   "cell_type": "code",
   "execution_count": 3,
   "id": "449e081f",
   "metadata": {},
   "outputs": [
    {
     "name": "stdout",
     "output_type": "stream",
     "text": [
      "   Id  SepalLengthCm  SepalWidthCm  PetalLengthCm  PetalWidthCm      Species\n",
      "2   3            4.7           3.2            1.3           0.2  Iris-setosa\n",
      "3   4            4.6           3.1            1.5           0.2  Iris-setosa\n",
      "   Id  SepalLengthCm  SepalWidthCm  PetalLengthCm  PetalWidthCm      Species\n",
      "2   3            4.7           3.2            1.3           0.2  Iris-setosa\n",
      "2   3            4.7           3.2            1.3           0.2  Iris-setosa\n"
     ]
    }
   ],
   "source": [
    "import pandas as pd\n",
    "\n",
    "df=pd.read_csv(\"iris.csv\")\n",
    "print(df.loc[[2,3]])#row wise\n",
    "print(df.iloc[[2,2]])#function enables us to select a particular cell of the dataset,\n"
   ]
  },
  {
   "cell_type": "code",
   "execution_count": 4,
   "id": "92c6d655",
   "metadata": {},
   "outputs": [
    {
     "name": "stdout",
     "output_type": "stream",
     "text": [
      "      Id  SepalLengthCm\n",
      "0      1            5.1\n",
      "1      2            4.9\n",
      "2      3            4.7\n",
      "3      4            4.6\n",
      "4      5            5.0\n",
      "..   ...            ...\n",
      "145  146            6.7\n",
      "146  147            6.3\n",
      "147  148            6.5\n",
      "148  149            6.2\n",
      "149  150            5.9\n",
      "\n",
      "[150 rows x 2 columns]\n"
     ]
    }
   ],
   "source": [
    "import pandas as pd\n",
    "\n",
    "df=pd.read_csv(\"iris.csv\")\n",
    "i=df[[\"Id\",\"SepalLengthCm\"]]#specific column data\n",
    "print(i)\n"
   ]
  },
  {
   "cell_type": "code",
   "execution_count": 5,
   "id": "fe107776",
   "metadata": {},
   "outputs": [
    {
     "name": "stdout",
     "output_type": "stream",
     "text": [
      "   Id  SepalLengthCm\n",
      "2   3            4.7\n",
      "3   4            4.6\n"
     ]
    }
   ],
   "source": [
    "import pandas as pd\n",
    "\n",
    "df=pd.read_csv(\"iris.csv\")\n",
    "i=df.loc[[2,3],[\"Id\",\"SepalLengthCm\"]]#particular column and row\n",
    "print(i)\n"
   ]
  },
  {
   "cell_type": "code",
   "execution_count": 6,
   "id": "917acbdc",
   "metadata": {},
   "outputs": [
    {
     "name": "stdout",
     "output_type": "stream",
     "text": [
      "     name class\n",
      "0  muskan   MCA\n",
      "1    lama   BBA\n"
     ]
    }
   ],
   "source": [
    "import pandas as pd\n",
    "\n",
    "d={'name':['muskan','lama'],'class':['MCA','BBA']} #create df from dict\n",
    "df=pd.DataFrame(d)\n",
    "print(df)\n"
   ]
  },
  {
   "cell_type": "code",
   "execution_count": 7,
   "id": "7ff0a5d6",
   "metadata": {},
   "outputs": [
    {
     "name": "stdout",
     "output_type": "stream",
     "text": [
      "         b   c     a\n",
      "first    2   3   NaN\n",
      "second  20  30  10.0\n"
     ]
    }
   ],
   "source": [
    "# Python code demonstrate to create\n",
    "# Pandas DataFrame by passing lists of\n",
    "# Dictionaries and row indices.\n",
    "import pandas as pd\n",
    "\n",
    "# Intitialize data of lists\n",
    "data = [{'b': 2, 'c':3}, {'a': 10, 'b': 20, 'c': 30}]\n",
    "\n",
    "# Creates pandas DataFrame by passing\n",
    "# Lists of dictionaries and row index.\n",
    "df = pd.DataFrame(data, index =['first', 'second'])\n",
    "\n",
    "# Print the data\n",
    "print(df)\n",
    "\n"
   ]
  },
  {
   "cell_type": "code",
   "execution_count": 13,
   "id": "91d4c32b",
   "metadata": {},
   "outputs": [
    {
     "name": "stdout",
     "output_type": "stream",
     "text": [
      "        a   b     c\n",
      "first   1   2   NaN\n",
      "second  5  10  20.0\n"
     ]
    }
   ],
   "source": [
    "import pandas as pd\n",
    "   \n",
    "da = [{'a': 1, 'b': 2},\n",
    "        {'a': 5, 'b': 10, 'c': 20}] #list\n",
    "\n",
    "   \n",
    "# With two column indices, values same \n",
    "# as dictionary keys\n",
    "df1 = pd.DataFrame(da, index =['first',\n",
    "                                 'second'],\n",
    "                   columns =['a', 'b','c'])\n",
    "print(df1)\n"
   ]
  },
  {
   "cell_type": "code",
   "execution_count": 9,
   "id": "37feb6a1",
   "metadata": {},
   "outputs": [
    {
     "name": "stdout",
     "output_type": "stream",
     "text": [
      "0    Jitender\n",
      "1     Purnima\n",
      "2       Arpit\n",
      "3       Jyoti\n",
      "dtype: object\n"
     ]
    }
   ],
   "source": [
    "#series \n",
    "author = ['Jitender', 'Purnima', 'Arpit', 'Jyoti']\n",
    "\n",
    "auth_series = pd.Series(author)\n",
    "print(auth_series)\n"
   ]
  },
  {
   "cell_type": "code",
   "execution_count": 12,
   "id": "07c1c4ff",
   "metadata": {},
   "outputs": [
    {
     "name": "stdout",
     "output_type": "stream",
     "text": [
      "    Name  Age  Score\n",
      "0  Peter   18      7\n",
      "1   Riff   15      6\n"
     ]
    }
   ],
   "source": [
    "#tuple\n",
    "# import pandas to use pandas DataFrame\n",
    "# data in the form of list of tuples\n",
    "data = [('Peter', 18, 7),\n",
    "\t\t('Riff', 15, 6)]\n",
    "\n",
    "\n",
    "# create DataFrame using data\n",
    "df = pd.DataFrame(data, columns =['Name', 'Age', 'Score'])\n",
    "\n",
    "print(df)\n"
   ]
  },
  {
   "cell_type": "code",
   "execution_count": null,
   "id": "b15defd9",
   "metadata": {},
   "outputs": [],
   "source": []
  }
 ],
 "metadata": {
  "kernelspec": {
   "display_name": "Python 3",
   "language": "python",
   "name": "python3"
  },
  "language_info": {
   "codemirror_mode": {
    "name": "ipython",
    "version": 3
   },
   "file_extension": ".py",
   "mimetype": "text/x-python",
   "name": "python",
   "nbconvert_exporter": "python",
   "pygments_lexer": "ipython3",
   "version": "3.8.8"
  }
 },
 "nbformat": 4,
 "nbformat_minor": 5
}
