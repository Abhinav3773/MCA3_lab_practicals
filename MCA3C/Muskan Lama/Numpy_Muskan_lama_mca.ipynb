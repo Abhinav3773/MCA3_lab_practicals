{
 "cells": [
  {
   "cell_type": "code",
   "execution_count": 4,
   "id": "6dc6b1bf",
   "metadata": {},
   "outputs": [
    {
     "name": "stdout",
     "output_type": "stream",
     "text": [
      "[1 3 3 4 6 7 9]\n"
     ]
    }
   ],
   "source": [
    "# Python code to demonstrate\n",
    "# working of numpy.sort\n",
    "import numpy as np\n",
    "\n",
    "# Numpy array created\n",
    "a = np.array([9, 3, 1, 7, 4, 3, 6])\n",
    "\n",
    "# unsorted array print\n",
    "a.sort()\n",
    "print(a)\n",
    "\n"
   ]
  },
  {
   "cell_type": "code",
   "execution_count": 6,
   "id": "0e529539",
   "metadata": {},
   "outputs": [
    {
     "name": "stdout",
     "output_type": "stream",
     "text": [
      "Sorted Array in Descending Order:  [9 7 6 4 3 3 1]\n"
     ]
    }
   ],
   "source": [
    "#descending order\n",
    "a = np.sort(a)[::-1]\n",
    "print('Sorted Array in Descending Order: ', a)"
   ]
  },
  {
   "cell_type": "code",
   "execution_count": 11,
   "id": "4fa6e12d",
   "metadata": {},
   "outputs": [
    {
     "name": "stdout",
     "output_type": "stream",
     "text": [
      "Applying argsort() to x:\n",
      "[1 2 0]\n",
      "\n",
      "\n",
      "[1 2 3]\n",
      "\n",
      "\n"
     ]
    }
   ],
   "source": [
    "#sorting using argsort\n",
    "import numpy as np \n",
    "x = np.array([3, 1, 2]) \n",
    "\n",
    "print ('Applying argsort() to x:' )\n",
    "y = np.argsort(x) \n",
    "print(y) \n",
    "print('\\n')  \n",
    "\n",
    "print( x[y] )\n",
    "print('\\n')\n"
   ]
  },
  {
   "cell_type": "code",
   "execution_count": 15,
   "id": "3a2a0691",
   "metadata": {},
   "outputs": [
    {
     "name": "stdout",
     "output_type": "stream",
     "text": [
      "Our array is:\n",
      "[(b'raju', 21) (b'anil', 25) (b'ravi', 17) (b'amar', 27)]\n",
      "\n",
      "\n",
      "Order by name:\n",
      "[(b'amar', 27) (b'anil', 25) (b'raju', 21) (b'ravi', 17)]\n"
     ]
    }
   ],
   "source": [
    "# Order parameter in sort function \n",
    "dt = np.dtype([('name', 'S10'),('age', int)]) \n",
    "a = np.array([(\"raju\",21),(\"anil\",25),(\"ravi\", 17), (\"amar\",27)], dtype = dt) \n",
    "\n",
    "print('Our array is:') \n",
    "print(a)\n",
    "print('\\n')  \n",
    "\n",
    "print( 'Order by name:' )\n",
    "print(np.sort( a,order = 'name'))"
   ]
  },
  {
   "cell_type": "code",
   "execution_count": 54,
   "id": "88f3bf3f",
   "metadata": {},
   "outputs": [
    {
     "data": {
      "text/plain": [
       "[8, 10, 12]"
      ]
     },
     "execution_count": 54,
     "metadata": {},
     "output_type": "execute_result"
    }
   ],
   "source": [
    "def add(x,y):\n",
    "        c=[[0,0,0],[0,0,0]]\n",
    "        for i in range(len(x)):\n",
    "            for j in range(len(x[0])):\n",
    "                c[i][j]=x[i][j]+y[i][j]\n",
    "        for r in c:\n",
    "            return r\n",
    "            \n",
    "x=[[1,2,3],[4,5,6]]\n",
    "y=[[7,8,9],[10,11,12]]\n",
    "add(x,y)\n",
    "\n"
   ]
  },
  {
   "cell_type": "code",
   "execution_count": 34,
   "id": "b20edb4e",
   "metadata": {},
   "outputs": [
    {
     "name": "stdout",
     "output_type": "stream",
     "text": [
      "[2 3 4 5 6]\n",
      "[3 4]\n",
      "\n",
      " a[-8:17:1] =  [1 2 3 4 5 6]\n",
      "\n",
      " a[10:] =  []\n"
     ]
    }
   ],
   "source": [
    "#Write a program to illustrate the indexing and slicing operations in NumPy arrays.\n",
    "#slicing\n",
    "a=np.array([1,2,3,4,5,6])\n",
    "print(a[1:])\n",
    "print(a[2:4])\n",
    "# a[start:stop:step]\n",
    "print(\"\\n a[-8:17:1] = \",a[-8:17:1])\n",
    " \n",
    "# The : operator means all elements till the end.\n",
    "print(\"\\n a[10:] = \",a[10:])"
   ]
  },
  {
   "cell_type": "code",
   "execution_count": 35,
   "id": "53a069d4",
   "metadata": {},
   "outputs": [
    {
     "name": "stdout",
     "output_type": "stream",
     "text": [
      "\n",
      " Elements at these indices are:\n",
      " [4 2 3]\n"
     ]
    }
   ],
   "source": [
    "#indexing\n",
    "a = np.array([1,2,3,4,5,6,7,8,9,10,11,12,13])\n",
    "# Indexes are specified inside the np.array method.\n",
    "newarr = a[np.array([3, 1, 2 ])]\n",
    "print(\"\\n Elements at these indices are:\\n\",newarr)\n"
   ]
  },
  {
   "cell_type": "code",
   "execution_count": 36,
   "id": "3b0fff86",
   "metadata": {},
   "outputs": [
    {
     "name": "stdout",
     "output_type": "stream",
     "text": [
      "[1 3 6]\n"
     ]
    }
   ],
   "source": [
    "# Python program showing advanced indexing\n",
    "import numpy as np\n",
    "\n",
    "a = np.array([[1 ,2 ],[3 ,4 ],[5 ,6 ]])\n",
    "print(a[[0 ,1 ,2 ],[0 ,0 ,1]])\n"
   ]
  },
  {
   "cell_type": "markdown",
   "id": "dd863663",
   "metadata": {},
   "source": [
    "Write a program to perform basic arithmetic operations in a NumPy array. "
   ]
  },
  {
   "cell_type": "code",
   "execution_count": 24,
   "id": "af9abb69",
   "metadata": {},
   "outputs": [
    {
     "name": "stdout",
     "output_type": "stream",
     "text": [
      "[ 8 10 12]\n"
     ]
    }
   ],
   "source": [
    "#subtracion\n",
    "a=np.array([2,3,4])\n",
    "b=np.array([6,7,8])\n",
    "sum=np.array([0,0,0])\n",
    "mul=np.array([1,1,1])\n",
    "for i in range(len(a)):\n",
    "    sum[i]=a[i]+b[i]\n",
    "print(sum)"
   ]
  },
  {
   "cell_type": "code",
   "execution_count": 25,
   "id": "3abfe39a",
   "metadata": {},
   "outputs": [
    {
     "name": "stdout",
     "output_type": "stream",
     "text": [
      "[12 21 32]\n"
     ]
    }
   ],
   "source": [
    "#multiplication\n",
    "for i in range(len(a)):\n",
    "    mul[i]=a[i]*b[i]\n",
    "print(mul)"
   ]
  },
  {
   "cell_type": "code",
   "execution_count": 26,
   "id": "fbf25533",
   "metadata": {},
   "outputs": [
    {
     "name": "stdout",
     "output_type": "stream",
     "text": [
      "[0 0 0]\n"
     ]
    }
   ],
   "source": [
    "#division\n",
    "for i in range(len(a)):\n",
    "    sum[i]=a[i]/b[i]\n",
    "print(sum)"
   ]
  },
  {
   "cell_type": "code",
   "execution_count": 28,
   "id": "0edc72fd",
   "metadata": {},
   "outputs": [
    {
     "name": "stdout",
     "output_type": "stream",
     "text": [
      "[-4 -4 -4]\n"
     ]
    }
   ],
   "source": [
    "#subtraction\n",
    "for i in range(len(a)):\n",
    "    sum[i]=a[i]-b[i]\n",
    "print(sum)"
   ]
  },
  {
   "cell_type": "code",
   "execution_count": 29,
   "id": "e9b80c10",
   "metadata": {},
   "outputs": [
    {
     "name": "stdout",
     "output_type": "stream",
     "text": [
      "[2 3 4]\n"
     ]
    }
   ],
   "source": [
    "#modules\n",
    "for i in range(len(a)):\n",
    "    sum[i]=a[i]%b[i]\n",
    "print(sum)"
   ]
  },
  {
   "cell_type": "markdown",
   "id": "5eb0f628",
   "metadata": {},
   "source": [
    "Write a program to demonstrate the usage of different element wise array functions."
   ]
  },
  {
   "cell_type": "code",
   "execution_count": 42,
   "id": "d7fb5845",
   "metadata": {},
   "outputs": [
    {
     "name": "stdout",
     "output_type": "stream",
     "text": [
      "The new created array is : 1 2 3 1 2 5 \r\n",
      "The index of 1st occurrence of 2 is : 1\n",
      "The index of 1st occurrence of 1 is : 0\n"
     ]
    }
   ],
   "source": [
    "import array\n",
    "arr = array.array('i', [1, 2, 3, 1, 2, 5])\n",
    " \n",
    "# printing original array\n",
    "print (\"The new created array is : \", end =\"\")\n",
    "for i in range (0, 6):\n",
    "    print (arr[i], end =\" \")\n",
    " \n",
    "print (\"\\r\")\n",
    " \n",
    "# using index() to print index of 1st occurrenece of 2\n",
    "print (\"The index of 1st occurrence of 2 is : \", end =\"\")\n",
    "print (arr.index(2))\n",
    " \n",
    "# using index() to print index of 1st occurrenece of 1\n",
    "print (\"The index of 1st occurrence of 1 is : \", end =\"\")\n",
    "print (arr.index(1))"
   ]
  },
  {
   "cell_type": "code",
   "execution_count": 45,
   "id": "6fcf7c91",
   "metadata": {},
   "outputs": [
    {
     "name": "stdout",
     "output_type": "stream",
     "text": [
      "14\n"
     ]
    }
   ],
   "source": [
    "#sum\n",
    "sum=0\n",
    "for i in range(0,len(arr)):\n",
    "    sum=sum+arr[i]\n",
    "print(sum)"
   ]
  },
  {
   "cell_type": "code",
   "execution_count": 52,
   "id": "dc8ca9e2",
   "metadata": {},
   "outputs": [
    {
     "data": {
      "image/png": "[encoded data removed]",
      "text/plain": [
       "<Figure size 432x288 with 1 Axes>"
      ]
     },
     "metadata": {
      "needs_background": "light"
     },
     "output_type": "display_data"
    }
   ],
   "source": [
    "# Python code for 1-D random walk.\n",
    "import random\n",
    "import numpy as np\n",
    "import matplotlib.pyplot as plt\n",
    "\n",
    "# Probability to move up or down\n",
    "prob = [0.05, 0.95]\n",
    "\n",
    "# statically defining the starting position\n",
    "start = 2\n",
    "positions = [start]\n",
    "\n",
    "# creating the random points\n",
    "rr = np.random.random(1000)\n",
    "downp = rr < prob[0]\n",
    "upp = rr > prob[1]\n",
    "\n",
    "\n",
    "for idownp, iupp in zip(downp, upp):\n",
    "\tdown = idownp and positions[-1] > 1\n",
    "\tup = iupp and positions[-1] < 4\n",
    "\tpositions.append(positions[-1] - down + up)\n",
    "\n",
    "# plotting down the graph of the random walk in 1D\n",
    "plt.plot(positions)\n",
    "plt.show()\n"
   ]
  },
  {
   "cell_type": "code",
   "execution_count": null,
   "id": "d237d3e2",
   "metadata": {},
   "outputs": [],
   "source": []
  }
 ],
 "metadata": {
  "kernelspec": {
   "display_name": "Python 3",
   "language": "python",
   "name": "python3"
  },
  "language_info": {
   "codemirror_mode": {
    "name": "ipython",
    "version": 3
   },
   "file_extension": ".py",
   "mimetype": "text/x-python",
   "name": "python",
   "nbconvert_exporter": "python",
   "pygments_lexer": "ipython3",
   "version": "3.8.8"
  }
 },
 "nbformat": 4,
 "nbformat_minor": 5
}
